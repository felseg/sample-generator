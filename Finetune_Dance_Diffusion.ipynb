{
  "cells": [
    {
      "cell_type": "markdown",
      "metadata": {
        "id": "f39_5v4kEAMo"
      },
      "source": [
        "<a href=\"https://colab.research.google.com/github/Harmonai-org/sample-generator/blob/main/Finetune_Dance_Diffusion.ipynb\" target=\"_parent\"><img src=\"https://colab.research.google.com/assets/colab-badge.svg\" alt=\"Open In Colab\"/></a>"
      ]
    },
    {
      "cell_type": "markdown",
      "metadata": {
        "id": "HHcTRGvUmoME"
      },
      "source": [
        "# Dance Diffusion finetune"
      ]
    },
    {
      "cell_type": "markdown",
      "metadata": {
        "id": "u97w34BXmust"
      },
      "source": [
        "Licensed under the MIT License\n",
        "\n",
        "Copyright (c) 2022 Zach Evans\n",
        "\n",
        "Permission is hereby granted, free of charge, to any person obtaining a copy\n",
        "of this software and associated documentation files (the \"Software\"), to deal\n",
        "in the Software without restriction, including without limitation the rights\n",
        "to use, copy, modify, merge, publish, distribute, sublicense, and/or sell\n",
        "copies of the Software, and to permit persons to whom the Software is\n",
        "furnished to do so, subject to the following conditions:\n",
        "\n",
        "The above copyright notice and this permission notice shall be included in\n",
        "all copies or substantial portions of the Software.\n",
        "\n",
        "THE SOFTWARE IS PROVIDED \"AS IS\", WITHOUT WARRANTY OF ANY KIND, EXPRESS OR\n",
        "IMPLIED, INCLUDING BUT NOT LIMITED TO THE WARRANTIES OF MERCHANTABILITY,\n",
        "FITNESS FOR A PARTICULAR PURPOSE AND NONINFRINGEMENT. IN NO EVENT SHALL THE\n",
        "AUTHORS OR COPYRIGHT HOLDERS BE LIABLE FOR ANY CLAIM, DAMAGES OR OTHER\n",
        "LIABILITY, WHETHER IN AN ACTION OF CONTRACT, TORT OR OTHERWISE, ARISING FROM,\n",
        "OUT OF OR IN CONNECTION WITH THE SOFTWARE OR THE USE OR OTHER DEALINGS IN\n",
        "THE SOFTWARE.\n"
      ]
    },
    {
      "cell_type": "markdown",
      "metadata": {
        "id": "lU97ZiP7nSKS"
      },
      "source": [
        "# Set Up"
      ]
    },
    {
      "cell_type": "code",
      "execution_count": 1,
      "metadata": {
        "cellView": "form",
        "id": "mxb-qgh0nUOf"
      },
      "outputs": [
        {
          "name": "stdout",
          "output_type": "stream",
          "text": [
            "GPU 0: NVIDIA GeForce RTX 3080 (UUID: GPU-f2e7b236-c1d4-1140-c118-bbc088036f4a)\n",
            "\n"
          ]
        }
      ],
      "source": [
        "#@title Check GPU Status\n",
        "import subprocess\n",
        "simple_nvidia_smi_display = True#@param {type:\"boolean\"}\n",
        "if simple_nvidia_smi_display:\n",
        "    #!nvidia-smi\n",
        "    nvidiasmi_output = subprocess.run(['nvidia-smi', '-L'], stdout=subprocess.PIPE).stdout.decode('utf-8')\n",
        "    print(nvidiasmi_output)\n",
        "else:\n",
        "    #!nvidia-smi -i 0 -e 0\n",
        "    nvidiasmi_output = subprocess.run(['nvidia-smi'], stdout=subprocess.PIPE).stdout.decode('utf-8')\n",
        "    print(nvidiasmi_output)\n",
        "    nvidiasmi_ecc_note = subprocess.run(['nvidia-smi', '-i', '0', '-e', '0'], stdout=subprocess.PIPE).stdout.decode('utf-8')\n",
        "    print(nvidiasmi_ecc_note)"
      ]
    },
    {
      "cell_type": "code",
      "execution_count": 2,
      "metadata": {
        "cellView": "form",
        "id": "T_mFtzHvnlJL"
      },
      "outputs": [
        {
          "name": "stdout",
          "output_type": "stream",
          "text": [
            "Google Colab not detected.\n"
          ]
        }
      ],
      "source": [
        "#@title Prepare folders\n",
        "import subprocess, os, sys, ipykernel\n",
        "\n",
        "def gitclone(url, targetdir=None):\n",
        "    if targetdir:\n",
        "        res = subprocess.run(['git', 'clone', url, targetdir], stdout=subprocess.PIPE).stdout.decode('utf-8')\n",
        "    else:\n",
        "        res = subprocess.run(['git', 'clone', url], stdout=subprocess.PIPE).stdout.decode('utf-8')\n",
        "    print(res)\n",
        "\n",
        "def pipi(modulestr):\n",
        "    res = subprocess.run(['pip', 'install', modulestr], stdout=subprocess.PIPE).stdout.decode('utf-8')\n",
        "    print(res)\n",
        "\n",
        "def pipie(modulestr):\n",
        "    res = subprocess.run(['git', 'install', '-e', modulestr], stdout=subprocess.PIPE).stdout.decode('utf-8')\n",
        "    print(res)\n",
        "\n",
        "def wget(url, outputdir):\n",
        "    res = subprocess.run(['wget', url, '-P', f'{outputdir}'], stdout=subprocess.PIPE).stdout.decode('utf-8')\n",
        "    print(res)\n",
        "\n",
        "#todo remove colab\n",
        "\n",
        "try:\n",
        "    from google.colab import drive\n",
        "    print(\"Google Colab detected. Using Google Drive.\")\n",
        "    is_colab = True\n",
        "    google_drive = True #@param {type:\"boolean\"}\n",
        "    #@markdown Click here if you'd like to save the diffusion model checkpoint file to (and/or load from) your Google Drive:\n",
        "    save_models_to_google_drive = True #@param {type:\"boolean\"}\n",
        "except:\n",
        "    is_colab = False\n",
        "    google_drive = False\n",
        "    save_models_to_google_drive = False\n",
        "    print(\"Google Colab not detected.\")\n",
        "\n",
        "if is_colab:\n",
        "    if google_drive is True:\n",
        "        drive.mount('/content/drive')\n",
        "        root_path = '/content/drive/MyDrive/AI/Bass_Diffusion'\n",
        "    else:\n",
        "        root_path = '/content'\n",
        "else:\n",
        "    root_path = os.getcwd()\n",
        "\n",
        "import os\n",
        "def createPath(filepath):\n",
        "    os.makedirs(filepath, exist_ok=True)\n",
        "\n",
        "initDirPath = f'{root_path}/init_audio'\n",
        "createPath(initDirPath)\n",
        "outDirPath = f'{root_path}/audio_out'\n",
        "createPath(outDirPath)\n",
        "\n",
        "if is_colab:\n",
        "    if google_drive and not save_models_to_google_drive or not google_drive:\n",
        "        model_path = '/content/models'\n",
        "        createPath(model_path)\n",
        "    if google_drive and save_models_to_google_drive:\n",
        "        model_path = f'{root_path}/models'\n",
        "        createPath(model_path)\n",
        "else:\n",
        "    model_path = f'{root_path}/models'\n",
        "    createPath(model_path)\n",
        "\n",
        "#@markdown Click here if you'd like to save the diffusion model checkpoint file to your [Weights & Biases](www.wandb.ai/site) account:\n",
        "save_models_to_wandb = False #@param {type:\"boolean\"}\n",
        "save_wandb_str = '--save-wandb all' if save_models_to_wandb else ''\n",
        "if save_models_to_wandb == True:\n",
        "    print('Saving model checkpoints in wandb')"
      ]
    },
    {
      "cell_type": "code",
      "execution_count": 8,
      "metadata": {
        "cellView": "form",
        "id": "y9BS0ks1oEgP"
      },
      "outputs": [
        {
          "name": "stdout",
          "output_type": "stream",
          "text": [
            "Processing /home/user/ai/sample-generator\n",
            "\u001b[33m  DEPRECATION: A future pip version will change local packages to be built in-place without first copying to a temporary directory. We recommend you use --use-feature=in-tree-build to test your packages with this new behavior before it becomes the default.\n",
            "   pip 21.3 will remove support for this functionality. You can find discussion regarding this at https://github.com/pypa/pip/issues/7555.\u001b[0m\n",
            "Requirement already satisfied: einops in /home/user/anaconda3/lib/python3.9/site-packages (from sample-generator==1.0.0) (0.4.1)\n",
            "Requirement already satisfied: pandas in /home/user/anaconda3/lib/python3.9/site-packages (from sample-generator==1.0.0) (1.4.2)\n",
            "Requirement already satisfied: prefigure in /home/user/anaconda3/lib/python3.9/site-packages (from sample-generator==1.0.0) (0.0.9)\n",
            "Requirement already satisfied: pytorch_lightning in /home/user/anaconda3/lib/python3.9/site-packages (from sample-generator==1.0.0) (1.7.6)\n",
            "Requirement already satisfied: scipy in /home/user/anaconda3/lib/python3.9/site-packages (from sample-generator==1.0.0) (1.10.1)\n",
            "Requirement already satisfied: torch in /home/user/anaconda3/lib/python3.9/site-packages (from sample-generator==1.0.0) (2.0.0)\n",
            "Requirement already satisfied: torchaudio in /home/user/anaconda3/lib/python3.9/site-packages (from sample-generator==1.0.0) (2.0.1)\n",
            "Requirement already satisfied: tqdm in /home/user/anaconda3/lib/python3.9/site-packages (from sample-generator==1.0.0) (4.64.1)\n",
            "Requirement already satisfied: wandb in /home/user/anaconda3/lib/python3.9/site-packages (from sample-generator==1.0.0) (0.14.0)\n",
            "Requirement already satisfied: librosa in /home/user/anaconda3/lib/python3.9/site-packages (from sample-generator==1.0.0) (0.10.0.post1)\n",
            "Requirement already satisfied: scikit-learn>=0.20.0 in /home/user/anaconda3/lib/python3.9/site-packages (from librosa->sample-generator==1.0.0) (1.0.2)\n",
            "Requirement already satisfied: lazy-loader>=0.1 in /home/user/anaconda3/lib/python3.9/site-packages (from librosa->sample-generator==1.0.0) (0.1)\n",
            "Requirement already satisfied: numpy!=1.22.0,!=1.22.1,!=1.22.2,>=1.20.3 in /home/user/anaconda3/lib/python3.9/site-packages (from librosa->sample-generator==1.0.0) (1.23.3)\n",
            "Requirement already satisfied: decorator>=4.3.0 in /home/user/anaconda3/lib/python3.9/site-packages (from librosa->sample-generator==1.0.0) (5.1.1)\n",
            "Requirement already satisfied: numba>=0.51.0 in /home/user/anaconda3/lib/python3.9/site-packages (from librosa->sample-generator==1.0.0) (0.56.4)\n",
            "Requirement already satisfied: typing-extensions>=4.1.1 in /home/user/anaconda3/lib/python3.9/site-packages (from librosa->sample-generator==1.0.0) (4.5.0)\n",
            "Requirement already satisfied: msgpack>=1.0 in /home/user/anaconda3/lib/python3.9/site-packages (from librosa->sample-generator==1.0.0) (1.0.2)\n",
            "Requirement already satisfied: pooch>=1.0 in /home/user/anaconda3/lib/python3.9/site-packages (from librosa->sample-generator==1.0.0) (1.7.0)\n",
            "Requirement already satisfied: joblib>=0.14 in /home/user/anaconda3/lib/python3.9/site-packages (from librosa->sample-generator==1.0.0) (1.1.0)\n",
            "Requirement already satisfied: soundfile>=0.12.1 in /home/user/anaconda3/lib/python3.9/site-packages (from librosa->sample-generator==1.0.0) (0.12.1)\n",
            "Requirement already satisfied: soxr>=0.3.2 in /home/user/anaconda3/lib/python3.9/site-packages (from librosa->sample-generator==1.0.0) (0.3.4)\n",
            "Requirement already satisfied: audioread>=2.1.9 in /home/user/anaconda3/lib/python3.9/site-packages (from librosa->sample-generator==1.0.0) (3.0.0)\n",
            "Requirement already satisfied: llvmlite<0.40,>=0.39.0dev0 in /home/user/anaconda3/lib/python3.9/site-packages (from numba>=0.51.0->librosa->sample-generator==1.0.0) (0.39.1)\n",
            "Requirement already satisfied: setuptools in /home/user/anaconda3/lib/python3.9/site-packages (from numba>=0.51.0->librosa->sample-generator==1.0.0) (61.2.0)\n",
            "Requirement already satisfied: requests>=2.19.0 in /home/user/anaconda3/lib/python3.9/site-packages (from pooch>=1.0->librosa->sample-generator==1.0.0) (2.28.2)\n",
            "Requirement already satisfied: packaging>=20.0 in /home/user/anaconda3/lib/python3.9/site-packages (from pooch>=1.0->librosa->sample-generator==1.0.0) (21.3)\n",
            "Requirement already satisfied: platformdirs>=2.5.0 in /home/user/anaconda3/lib/python3.9/site-packages (from pooch>=1.0->librosa->sample-generator==1.0.0) (3.1.1)\n",
            "Requirement already satisfied: pyparsing!=3.0.5,>=2.0.2 in /home/user/anaconda3/lib/python3.9/site-packages (from packaging>=20.0->pooch>=1.0->librosa->sample-generator==1.0.0) (3.0.4)\n",
            "Requirement already satisfied: urllib3<1.27,>=1.21.1 in /home/user/anaconda3/lib/python3.9/site-packages (from requests>=2.19.0->pooch>=1.0->librosa->sample-generator==1.0.0) (1.26.15)\n",
            "Requirement already satisfied: idna<4,>=2.5 in /home/user/anaconda3/lib/python3.9/site-packages (from requests>=2.19.0->pooch>=1.0->librosa->sample-generator==1.0.0) (2.10)\n",
            "Requirement already satisfied: certifi>=2017.4.17 in /home/user/anaconda3/lib/python3.9/site-packages (from requests>=2.19.0->pooch>=1.0->librosa->sample-generator==1.0.0) (2021.10.8)\n",
            "Requirement already satisfied: charset-normalizer<4,>=2 in /home/user/anaconda3/lib/python3.9/site-packages (from requests>=2.19.0->pooch>=1.0->librosa->sample-generator==1.0.0) (2.0.4)\n",
            "Requirement already satisfied: threadpoolctl>=2.0.0 in /home/user/anaconda3/lib/python3.9/site-packages (from scikit-learn>=0.20.0->librosa->sample-generator==1.0.0) (2.2.0)\n",
            "Requirement already satisfied: cffi>=1.0 in /home/user/anaconda3/lib/python3.9/site-packages (from soundfile>=0.12.1->librosa->sample-generator==1.0.0) (1.15.0)\n",
            "Requirement already satisfied: pycparser in /home/user/anaconda3/lib/python3.9/site-packages (from cffi>=1.0->soundfile>=0.12.1->librosa->sample-generator==1.0.0) (2.21)\n",
            "Requirement already satisfied: python-dateutil>=2.8.1 in /home/user/anaconda3/lib/python3.9/site-packages (from pandas->sample-generator==1.0.0) (2.8.2)\n",
            "Requirement already satisfied: pytz>=2020.1 in /home/user/anaconda3/lib/python3.9/site-packages (from pandas->sample-generator==1.0.0) (2021.3)\n",
            "Requirement already satisfied: six>=1.5 in /home/user/anaconda3/lib/python3.9/site-packages (from python-dateutil>=2.8.1->pandas->sample-generator==1.0.0) (1.16.0)\n",
            "Requirement already satisfied: configparser in /home/user/anaconda3/lib/python3.9/site-packages (from prefigure->sample-generator==1.0.0) (5.3.0)\n",
            "Collecting argparse\n",
            "  Using cached argparse-1.4.0-py2.py3-none-any.whl (23 kB)\n",
            "Requirement already satisfied: gin-config in /home/user/anaconda3/lib/python3.9/site-packages (from prefigure->sample-generator==1.0.0) (0.5.0)\n",
            "Requirement already satisfied: fsspec[http]!=2021.06.0,>=2021.05.0 in /home/user/anaconda3/lib/python3.9/site-packages (from pytorch_lightning->sample-generator==1.0.0) (2022.2.0)\n",
            "Requirement already satisfied: torchmetrics>=0.7.0 in /home/user/anaconda3/lib/python3.9/site-packages (from pytorch_lightning->sample-generator==1.0.0) (0.11.4)\n",
            "Requirement already satisfied: tensorboard>=2.9.1 in /home/user/anaconda3/lib/python3.9/site-packages (from pytorch_lightning->sample-generator==1.0.0) (2.11.2)\n",
            "Requirement already satisfied: pyDeprecate>=0.3.1 in /home/user/anaconda3/lib/python3.9/site-packages (from pytorch_lightning->sample-generator==1.0.0) (0.3.2)\n",
            "Requirement already satisfied: PyYAML>=5.4 in /home/user/anaconda3/lib/python3.9/site-packages (from pytorch_lightning->sample-generator==1.0.0) (6.0)\n",
            "Requirement already satisfied: aiohttp in /home/user/anaconda3/lib/python3.9/site-packages (from fsspec[http]!=2021.06.0,>=2021.05.0->pytorch_lightning->sample-generator==1.0.0) (3.8.1)\n",
            "Requirement already satisfied: google-auth<3,>=1.6.3 in /home/user/anaconda3/lib/python3.9/site-packages (from tensorboard>=2.9.1->pytorch_lightning->sample-generator==1.0.0) (1.33.0)\n",
            "Requirement already satisfied: absl-py>=0.4 in /home/user/anaconda3/lib/python3.9/site-packages (from tensorboard>=2.9.1->pytorch_lightning->sample-generator==1.0.0) (1.4.0)\n",
            "Requirement already satisfied: tensorboard-plugin-wit>=1.6.0 in /home/user/anaconda3/lib/python3.9/site-packages (from tensorboard>=2.9.1->pytorch_lightning->sample-generator==1.0.0) (1.8.1)\n",
            "Requirement already satisfied: werkzeug>=1.0.1 in /home/user/anaconda3/lib/python3.9/site-packages (from tensorboard>=2.9.1->pytorch_lightning->sample-generator==1.0.0) (2.0.3)\n",
            "Requirement already satisfied: grpcio>=1.24.3 in /home/user/anaconda3/lib/python3.9/site-packages (from tensorboard>=2.9.1->pytorch_lightning->sample-generator==1.0.0) (1.51.3)\n",
            "Requirement already satisfied: google-auth-oauthlib<0.5,>=0.4.1 in /home/user/anaconda3/lib/python3.9/site-packages (from tensorboard>=2.9.1->pytorch_lightning->sample-generator==1.0.0) (0.4.6)\n",
            "Requirement already satisfied: markdown>=2.6.8 in /home/user/anaconda3/lib/python3.9/site-packages (from tensorboard>=2.9.1->pytorch_lightning->sample-generator==1.0.0) (3.3.4)\n",
            "Requirement already satisfied: tensorboard-data-server<0.7.0,>=0.6.0 in /home/user/anaconda3/lib/python3.9/site-packages (from tensorboard>=2.9.1->pytorch_lightning->sample-generator==1.0.0) (0.6.1)\n",
            "Requirement already satisfied: protobuf<4,>=3.9.2 in /home/user/anaconda3/lib/python3.9/site-packages (from tensorboard>=2.9.1->pytorch_lightning->sample-generator==1.0.0) (3.19.6)\n",
            "Requirement already satisfied: wheel>=0.26 in /home/user/anaconda3/lib/python3.9/site-packages (from tensorboard>=2.9.1->pytorch_lightning->sample-generator==1.0.0) (0.37.1)\n",
            "Requirement already satisfied: rsa<5,>=3.1.4 in /home/user/anaconda3/lib/python3.9/site-packages (from google-auth<3,>=1.6.3->tensorboard>=2.9.1->pytorch_lightning->sample-generator==1.0.0) (4.7.2)\n",
            "Requirement already satisfied: cachetools<5.0,>=2.0.0 in /home/user/anaconda3/lib/python3.9/site-packages (from google-auth<3,>=1.6.3->tensorboard>=2.9.1->pytorch_lightning->sample-generator==1.0.0) (4.2.2)\n",
            "Requirement already satisfied: pyasn1-modules>=0.2.1 in /home/user/anaconda3/lib/python3.9/site-packages (from google-auth<3,>=1.6.3->tensorboard>=2.9.1->pytorch_lightning->sample-generator==1.0.0) (0.2.8)\n",
            "Requirement already satisfied: requests-oauthlib>=0.7.0 in /home/user/anaconda3/lib/python3.9/site-packages (from google-auth-oauthlib<0.5,>=0.4.1->tensorboard>=2.9.1->pytorch_lightning->sample-generator==1.0.0) (1.3.1)\n",
            "Requirement already satisfied: pyasn1<0.5.0,>=0.4.6 in /home/user/anaconda3/lib/python3.9/site-packages (from pyasn1-modules>=0.2.1->google-auth<3,>=1.6.3->tensorboard>=2.9.1->pytorch_lightning->sample-generator==1.0.0) (0.4.8)\n",
            "Requirement already satisfied: oauthlib>=3.0.0 in /home/user/anaconda3/lib/python3.9/site-packages (from requests-oauthlib>=0.7.0->google-auth-oauthlib<0.5,>=0.4.1->tensorboard>=2.9.1->pytorch_lightning->sample-generator==1.0.0) (3.2.2)\n",
            "Requirement already satisfied: nvidia-nvtx-cu11==11.7.91 in /home/user/anaconda3/lib/python3.9/site-packages (from torch->sample-generator==1.0.0) (11.7.91)\n",
            "Requirement already satisfied: nvidia-nccl-cu11==2.14.3 in /home/user/anaconda3/lib/python3.9/site-packages (from torch->sample-generator==1.0.0) (2.14.3)\n",
            "Requirement already satisfied: sympy in /home/user/anaconda3/lib/python3.9/site-packages (from torch->sample-generator==1.0.0) (1.10.1)\n",
            "Requirement already satisfied: nvidia-cufft-cu11==10.9.0.58 in /home/user/anaconda3/lib/python3.9/site-packages (from torch->sample-generator==1.0.0) (10.9.0.58)\n",
            "Requirement already satisfied: nvidia-cudnn-cu11==8.5.0.96 in /home/user/anaconda3/lib/python3.9/site-packages (from torch->sample-generator==1.0.0) (8.5.0.96)\n",
            "Requirement already satisfied: nvidia-curand-cu11==10.2.10.91 in /home/user/anaconda3/lib/python3.9/site-packages (from torch->sample-generator==1.0.0) (10.2.10.91)\n",
            "Requirement already satisfied: nvidia-cublas-cu11==11.10.3.66 in /home/user/anaconda3/lib/python3.9/site-packages (from torch->sample-generator==1.0.0) (11.10.3.66)\n",
            "Requirement already satisfied: nvidia-cuda-nvrtc-cu11==11.7.99 in /home/user/anaconda3/lib/python3.9/site-packages (from torch->sample-generator==1.0.0) (11.7.99)\n",
            "Requirement already satisfied: nvidia-cuda-cupti-cu11==11.7.101 in /home/user/anaconda3/lib/python3.9/site-packages (from torch->sample-generator==1.0.0) (11.7.101)\n",
            "Requirement already satisfied: nvidia-cusparse-cu11==11.7.4.91 in /home/user/anaconda3/lib/python3.9/site-packages (from torch->sample-generator==1.0.0) (11.7.4.91)\n",
            "Requirement already satisfied: triton==2.0.0 in /home/user/anaconda3/lib/python3.9/site-packages (from torch->sample-generator==1.0.0) (2.0.0)\n",
            "Requirement already satisfied: filelock in /home/user/anaconda3/lib/python3.9/site-packages (from torch->sample-generator==1.0.0) (3.6.0)\n",
            "Requirement already satisfied: networkx in /home/user/anaconda3/lib/python3.9/site-packages (from torch->sample-generator==1.0.0) (2.7.1)\n",
            "Requirement already satisfied: nvidia-cusolver-cu11==11.4.0.1 in /home/user/anaconda3/lib/python3.9/site-packages (from torch->sample-generator==1.0.0) (11.4.0.1)\n",
            "Requirement already satisfied: jinja2 in /home/user/anaconda3/lib/python3.9/site-packages (from torch->sample-generator==1.0.0) (2.11.3)\n",
            "Requirement already satisfied: nvidia-cuda-runtime-cu11==11.7.99 in /home/user/anaconda3/lib/python3.9/site-packages (from torch->sample-generator==1.0.0) (11.7.99)\n",
            "Requirement already satisfied: lit in /home/user/anaconda3/lib/python3.9/site-packages (from triton==2.0.0->torch->sample-generator==1.0.0) (15.0.7)\n",
            "Requirement already satisfied: cmake in /home/user/anaconda3/lib/python3.9/site-packages (from triton==2.0.0->torch->sample-generator==1.0.0) (3.26.0)\n",
            "Requirement already satisfied: aiosignal>=1.1.2 in /home/user/anaconda3/lib/python3.9/site-packages (from aiohttp->fsspec[http]!=2021.06.0,>=2021.05.0->pytorch_lightning->sample-generator==1.0.0) (1.2.0)\n",
            "Requirement already satisfied: async-timeout<5.0,>=4.0.0a3 in /home/user/anaconda3/lib/python3.9/site-packages (from aiohttp->fsspec[http]!=2021.06.0,>=2021.05.0->pytorch_lightning->sample-generator==1.0.0) (4.0.1)\n",
            "Requirement already satisfied: frozenlist>=1.1.1 in /home/user/anaconda3/lib/python3.9/site-packages (from aiohttp->fsspec[http]!=2021.06.0,>=2021.05.0->pytorch_lightning->sample-generator==1.0.0) (1.2.0)\n",
            "Requirement already satisfied: yarl<2.0,>=1.0 in /home/user/anaconda3/lib/python3.9/site-packages (from aiohttp->fsspec[http]!=2021.06.0,>=2021.05.0->pytorch_lightning->sample-generator==1.0.0) (1.6.3)\n",
            "Requirement already satisfied: attrs>=17.3.0 in /home/user/anaconda3/lib/python3.9/site-packages (from aiohttp->fsspec[http]!=2021.06.0,>=2021.05.0->pytorch_lightning->sample-generator==1.0.0) (21.4.0)\n",
            "Requirement already satisfied: multidict<7.0,>=4.5 in /home/user/anaconda3/lib/python3.9/site-packages (from aiohttp->fsspec[http]!=2021.06.0,>=2021.05.0->pytorch_lightning->sample-generator==1.0.0) (5.2.0)\n",
            "Requirement already satisfied: MarkupSafe>=0.23 in /home/user/anaconda3/lib/python3.9/site-packages (from jinja2->torch->sample-generator==1.0.0) (2.0.1)\n",
            "Requirement already satisfied: mpmath>=0.19 in /home/user/anaconda3/lib/python3.9/site-packages (from sympy->torch->sample-generator==1.0.0) (1.2.1)\n",
            "Requirement already satisfied: appdirs>=1.4.3 in /home/user/anaconda3/lib/python3.9/site-packages (from wandb->sample-generator==1.0.0) (1.4.4)\n",
            "Requirement already satisfied: GitPython!=3.1.29,>=1.0.0 in /home/user/anaconda3/lib/python3.9/site-packages (from wandb->sample-generator==1.0.0) (3.1.31)\n",
            "Requirement already satisfied: psutil>=5.0.0 in /home/user/anaconda3/lib/python3.9/site-packages (from wandb->sample-generator==1.0.0) (5.8.0)\n",
            "Requirement already satisfied: pathtools in /home/user/anaconda3/lib/python3.9/site-packages (from wandb->sample-generator==1.0.0) (0.1.2)\n",
            "Requirement already satisfied: sentry-sdk>=1.0.0 in /home/user/anaconda3/lib/python3.9/site-packages (from wandb->sample-generator==1.0.0) (1.17.0)\n",
            "Requirement already satisfied: Click!=8.0.0,>=7.0 in /home/user/anaconda3/lib/python3.9/site-packages (from wandb->sample-generator==1.0.0) (8.0.4)\n",
            "Requirement already satisfied: docker-pycreds>=0.4.0 in /home/user/anaconda3/lib/python3.9/site-packages (from wandb->sample-generator==1.0.0) (0.4.0)\n",
            "Requirement already satisfied: setproctitle in /home/user/anaconda3/lib/python3.9/site-packages (from wandb->sample-generator==1.0.0) (1.3.2)\n",
            "Requirement already satisfied: gitdb<5,>=4.0.1 in /home/user/anaconda3/lib/python3.9/site-packages (from GitPython!=3.1.29,>=1.0.0->wandb->sample-generator==1.0.0) (4.0.10)\n",
            "Requirement already satisfied: smmap<6,>=3.0.1 in /home/user/anaconda3/lib/python3.9/site-packages (from gitdb<5,>=4.0.1->GitPython!=3.1.29,>=1.0.0->wandb->sample-generator==1.0.0) (5.0.0)\n",
            "Building wheels for collected packages: sample-generator\n",
            "  Building wheel for sample-generator (setup.py) ... \u001b[?25ldone\n",
            "\u001b[?25h  Created wheel for sample-generator: filename=sample_generator-1.0.0-py3-none-any.whl size=9859 sha256=bdc7794d34d027e41e88fe216e1c6d15252cf5cf474e49abf933ee2dfc8fd9c7\n",
            "  Stored in directory: /home/user/.cache/pip/wheels/3b/e8/e1/c0112ab28a1b4ead6e6884df2c52c1d04648973ae38a500521\n",
            "Successfully built sample-generator\n",
            "Installing collected packages: argparse, sample-generator\n",
            "  Attempting uninstall: sample-generator\n",
            "    Found existing installation: sample-generator 1.0.0\n",
            "    Uninstalling sample-generator-1.0.0:\n",
            "      Successfully uninstalled sample-generator-1.0.0\n",
            "Successfully installed argparse-1.4.0 sample-generator-1.0.0\n"
          ]
        }
      ],
      "source": [
        "#@title Install dependencies\n",
        "!pip install ."
      ]
    },
    {
      "cell_type": "markdown",
      "metadata": {
        "id": "0xq2TJzIPTcJ"
      },
      "source": [
        "# Train"
      ]
    },
    {
      "cell_type": "code",
      "execution_count": 4,
      "metadata": {
        "cellView": "form",
        "id": "oxJFFEZ8CD8g"
      },
      "outputs": [
        {
          "name": "stdout",
          "output_type": "stream",
          "text": [
            "\u001b[34m\u001b[1mwandb\u001b[0m: Currently logged in as: \u001b[33mfelseg\u001b[0m. Use \u001b[1m`wandb login --relogin`\u001b[0m to force relogin\n"
          ]
        }
      ],
      "source": [
        "#@markdown Log in to [Weights & Biases](https://wandb.ai/) for run tracking\n",
        "!wandb login"
      ]
    },
    {
      "cell_type": "code",
      "execution_count": 33,
      "metadata": {
        "cellView": "form",
        "id": "-Q0XrS0HEmch"
      },
      "outputs": [
        {
          "name": "stdout",
          "output_type": "stream",
          "text": [
            "Using device: cuda\n",
            "Random crop: True\n",
            "/home/user/ai/sample-generator/content/dd-servos-smalls\n",
            "['/home/user/ai/sample-generator/content/dd-servos-smalls/servo_tiny_bot_transform_11_r8b_r8b--0.wav', '/home/user/ai/sample-generator/content/dd-servos-smalls/servo_dual_operating_03_r8b--9.wav', '/home/user/ai/sample-generator/content/dd-servos-smalls/servo_dual_operating_03_r8b--2.wav', '/home/user/ai/sample-generator/content/dd-servos-smalls/servo_motor_tiny_bot_01_r8b--3.wav', '/home/user/ai/sample-generator/content/dd-servos-smalls/servo_transform_sweetener_02_r8b--16.wav', '/home/user/ai/sample-generator/content/dd-servos-smalls/servo_tiny_bot_transform_18_r8b_r8b--0.wav', '/home/user/ai/sample-generator/content/dd-servos-smalls/servo_transform_sweetener_02_r8b_r8b--1.wav', '/home/user/ai/sample-generator/content/dd-servos-smalls/servo_transform_sweetener_02_r8b_r8b--21.wav', '/home/user/ai/sample-generator/content/dd-servos-smalls/servo_transform_sweetener_01_r8b--5.wav', '/home/user/ai/sample-generator/content/dd-servos-smalls/servo_dual_operating_02_r8b--16.wav', '/home/user/ai/sample-generator/content/dd-servos-smalls/servo_motors_medium_hitech_41_r8b--8.wav', '/home/user/ai/sample-generator/content/dd-servos-smalls/servo_lens_jammed_01_r8b--6.wav', '/home/user/ai/sample-generator/content/dd-servos-smalls/servo_tiny_bot_transform_34_r8b_r8b--17.wav', '/home/user/ai/sample-generator/content/dd-servos-smalls/servo_lens_jammed_01_r8b--9.wav', '/home/user/ai/sample-generator/content/dd-servos-smalls/servo_transform_sweetener_02_r8b_r8b--14.wav', '/home/user/ai/sample-generator/content/dd-servos-smalls/servo_dual_operating_02_r8b--5.wav', '/home/user/ai/sample-generator/content/dd-servos-smalls/servo_tiny_bot_transform_34_r8b_r8b--13.wav', '/home/user/ai/sample-generator/content/dd-servos-smalls/servo_tiny_bot_transform_18_r8b--0.wav', '/home/user/ai/sample-generator/content/dd-servos-smalls/servo_activate_bot_small_b_03_r8b--1.wav', '/home/user/ai/sample-generator/content/dd-servos-smalls/servo_tiny_bot_transform_21_r8b_r8b--0.wav', '/home/user/ai/sample-generator/content/dd-servos-smalls/servo_transform_sweetener_02_r8b--25.wav', '/home/user/ai/sample-generator/content/dd-servos-smalls/servo_activate_bot_small_21_r8b--0.wav', '/home/user/ai/sample-generator/content/dd-servos-smalls/servo_dual_operating_03_r8b--18.wav', '/home/user/ai/sample-generator/content/dd-servos-smalls/servo_dual_operating_02_r8b--15.wav', '/home/user/ai/sample-generator/content/dd-servos-smalls/servo_activate_bot_small_b_08_r8b--1.wav', '/home/user/ai/sample-generator/content/dd-servos-smalls/servo_tiny_bot_transform_34_r8b_r8b--6.wav', '/home/user/ai/sample-generator/content/dd-servos-smalls/servo_transform_sweetener_02_r8b--4.wav', '/home/user/ai/sample-generator/content/dd-servos-smalls/servo_activate_bot_small_18_r8b--1.wav', '/home/user/ai/sample-generator/content/dd-servos-smalls/servo_transform_sweetener_02_r8b--5.wav', '/home/user/ai/sample-generator/content/dd-servos-smalls/servo_dual_operating_02_r8b--28.wav', '/home/user/ai/sample-generator/content/dd-servos-smalls/servo_tiny_bot_transform_26_r8b--0.wav', '/home/user/ai/sample-generator/content/dd-servos-smalls/servo_motor_insectoid_14_r8b--1.wav', '/home/user/ai/sample-generator/content/dd-servos-smalls/servo_dual_operating_02_r8b--31.wav', '/home/user/ai/sample-generator/content/dd-servos-smalls/servo_transform_sweetener_02_r8b--19.wav', '/home/user/ai/sample-generator/content/dd-servos-smalls/servo_tiny_bot_transform_34_r8b_r8b--10.wav', '/home/user/ai/sample-generator/content/dd-servos-smalls/servo_dual_operating_03_r8b--19.wav', '/home/user/ai/sample-generator/content/dd-servos-smalls/servo_tiny_bot_transform_17_r8b--1.wav', '/home/user/ai/sample-generator/content/dd-servos-smalls/servo_transform_sweetener_02_r8b--8.wav', '/home/user/ai/sample-generator/content/dd-servos-smalls/servo_activate_bot_small_19_r8b--4.wav', '/home/user/ai/sample-generator/content/dd-servos-smalls/servo_transform_sweetener_02_r8b_r8b--18.wav', '/home/user/ai/sample-generator/content/dd-servos-smalls/servo_activate_bot_small_19_r8b--0.wav', '/home/user/ai/sample-generator/content/dd-servos-smalls/servo_tiny_bot_transform_22_r8b_r8b--1.wav', '/home/user/ai/sample-generator/content/dd-servos-smalls/servo_tiny_bot_transform_22_r8b_r8b--0.wav', '/home/user/ai/sample-generator/content/dd-servos-smalls/servo_dual_operating_02_r8b--4.wav', '/home/user/ai/sample-generator/content/dd-servos-smalls/servo_tiny_bot_transform_31_r8b--0.wav', '/home/user/ai/sample-generator/content/dd-servos-smalls/servo_tiny_bot_transform_15_r8b_r8b--0.wav', '/home/user/ai/sample-generator/content/dd-servos-smalls/servo_transform_sweetener_02_r8b_r8b--5.wav', '/home/user/ai/sample-generator/content/dd-servos-smalls/servo_lens_jammed_01_r8b--1.wav', '/home/user/ai/sample-generator/content/dd-servos-smalls/servo_dual_operating_02_r8b--24.wav', '/home/user/ai/sample-generator/content/dd-servos-smalls/servo_activate_bot_small_21_r8b--1.wav', '/home/user/ai/sample-generator/content/dd-servos-smalls/servo_dual_operating_01_r8b--14.wav', '/home/user/ai/sample-generator/content/dd-servos-smalls/servo_activate_bot_small_21_r8b--3.wav', '/home/user/ai/sample-generator/content/dd-servos-smalls/servo_tiny_bot_operating_17_r8b--4.wav', '/home/user/ai/sample-generator/content/dd-servos-smalls/servo_tiny_bot_operating_17_r8b--9.wav', '/home/user/ai/sample-generator/content/dd-servos-smalls/servo_tiny_bot_transform_35_r8b--3.wav', '/home/user/ai/sample-generator/content/dd-servos-smalls/servo_dual_operating_01_r8b--1.wav', '/home/user/ai/sample-generator/content/dd-servos-smalls/servo_tiny_bot_transform_13_r8b_r8b--2.wav', '/home/user/ai/sample-generator/content/dd-servos-smalls/servo_tiny_bot_transform_18_r8b_r8b--2.wav', '/home/user/ai/sample-generator/content/dd-servos-smalls/servo_motor_insectoid_14_r8b--4.wav', '/home/user/ai/sample-generator/content/dd-servos-smalls/servo_dual_operating_02_r8b--10.wav', '/home/user/ai/sample-generator/content/dd-servos-smalls/servo_motor_insectoid_14_r8b--3.wav', '/home/user/ai/sample-generator/content/dd-servos-smalls/servo_transform_sweetener_02_r8b--14.wav', '/home/user/ai/sample-generator/content/dd-servos-smalls/servo_transform_sweetener_02_r8b_r8b--23.wav', '/home/user/ai/sample-generator/content/dd-servos-smalls/servo_transform_sweetener_02_r8b--51.wav', '/home/user/ai/sample-generator/content/dd-servos-smalls/servo_lens_jammed_01_r8b--7.wav', '/home/user/ai/sample-generator/content/dd-servos-smalls/servo_tiny_bot_transform_34_r8b_r8b--5.wav', '/home/user/ai/sample-generator/content/dd-servos-smalls/servo_tiny_bot_transform_15_r8b_r8b--2.wav', '/home/user/ai/sample-generator/content/dd-servos-smalls/servo_motor_insectoid_14_r8b--7.wav', '/home/user/ai/sample-generator/content/dd-servos-smalls/servo_tiny_bot_transform_31_r8b--3.wav', '/home/user/ai/sample-generator/content/dd-servos-smalls/servo_tiny_bot_transform_21_r8b_r8b--1.wav', '/home/user/ai/sample-generator/content/dd-servos-smalls/servo_transform_sweetener_02_r8b--11.wav', '/home/user/ai/sample-generator/content/dd-servos-smalls/servo_dual_operating_02_r8b--26.wav', '/home/user/ai/sample-generator/content/dd-servos-smalls/servo_dual_operating_02_r8b--6.wav', '/home/user/ai/sample-generator/content/dd-servos-smalls/servo_transform_sweetener_02_r8b_r8b--19.wav', '/home/user/ai/sample-generator/content/dd-servos-smalls/servo_dual_operating_03_r8b--5.wav', '/home/user/ai/sample-generator/content/dd-servos-smalls/servo_dual_operating_02_r8b--27.wav', '/home/user/ai/sample-generator/content/dd-servos-smalls/servo_tiny_bot_transform_34_r8b_r8b--3.wav', '/home/user/ai/sample-generator/content/dd-servos-smalls/servo_activate_bot_small_20_r8b--3.wav', '/home/user/ai/sample-generator/content/dd-servos-smalls/servo_dual_operating_01_r8b--10.wav', '/home/user/ai/sample-generator/content/dd-servos-smalls/servo_dual_operating_01_r8b--0.wav', '/home/user/ai/sample-generator/content/dd-servos-smalls/servo_transform_sweetener_02_r8b--9.wav', '/home/user/ai/sample-generator/content/dd-servos-smalls/servo_tiny_bot_transform_20_r8b_r8b--0.wav', '/home/user/ai/sample-generator/content/dd-servos-smalls/servo_dual_operating_03_r8b--15.wav', '/home/user/ai/sample-generator/content/dd-servos-smalls/servo_transform_sweetener_01_r8b--3.wav', '/home/user/ai/sample-generator/content/dd-servos-smalls/servo_transform_sweetener_02_r8b--38.wav', '/home/user/ai/sample-generator/content/dd-servos-smalls/servo_motor_tiny_bot_01_r8b--0.wav', '/home/user/ai/sample-generator/content/dd-servos-smalls/servo_dual_operating_01_r8b--2.wav', '/home/user/ai/sample-generator/content/dd-servos-smalls/servo_dual_operating_03_r8b--6.wav', '/home/user/ai/sample-generator/content/dd-servos-smalls/servo_tiny_bot_transform_28_r8b--2.wav', '/home/user/ai/sample-generator/content/dd-servos-smalls/servo_transform_sweetener_02_r8b--0.wav', '/home/user/ai/sample-generator/content/dd-servos-smalls/servo_motor_tiny_bot_01_r8b--1.wav', '/home/user/ai/sample-generator/content/dd-servos-smalls/servo_transform_sweetener_02_r8b_r8b--8.wav', '/home/user/ai/sample-generator/content/dd-servos-smalls/servo_transform_sweetener_02_r8b_r8b--17.wav', '/home/user/ai/sample-generator/content/dd-servos-smalls/servo_dual_operating_01_r8b--11.wav', '/home/user/ai/sample-generator/content/dd-servos-smalls/servo_tiny_bot_transform_34_r8b_r8b--16.wav', '/home/user/ai/sample-generator/content/dd-servos-smalls/servo_tiny_bot_transform_17_r8b--0.wav', '/home/user/ai/sample-generator/content/dd-servos-smalls/servo_activate_bot_small_b_01_r8b--0.wav', '/home/user/ai/sample-generator/content/dd-servos-smalls/servo_tiny_bot_transform_35_r8b--2.wav', '/home/user/ai/sample-generator/content/dd-servos-smalls/servo_transform_sweetener_01_r8b--2.wav', '/home/user/ai/sample-generator/content/dd-servos-smalls/servo_tiny_bot_transform_35_r8b--1.wav', '/home/user/ai/sample-generator/content/dd-servos-smalls/servo_lens_jammed_01_r8b--2.wav', '/home/user/ai/sample-generator/content/dd-servos-smalls/servo_tiny_bot_transform_11_r8b_r8b--1.wav', '/home/user/ai/sample-generator/content/dd-servos-smalls/servo_motor_insectoid_14_r8b--5.wav', '/home/user/ai/sample-generator/content/dd-servos-smalls/servo_tiny_bot_transform_13_r8b_r8b--0.wav', '/home/user/ai/sample-generator/content/dd-servos-smalls/servo_activate_bot_small_17_r8b--3.wav', '/home/user/ai/sample-generator/content/dd-servos-smalls/servo_dual_operating_02_r8b--22.wav', '/home/user/ai/sample-generator/content/dd-servos-smalls/servo_tiny_bot_operating_17_r8b--3.wav', '/home/user/ai/sample-generator/content/dd-servos-smalls/servo_activate_bot_small_11_r8b--0.wav', '/home/user/ai/sample-generator/content/dd-servos-smalls/servo_tiny_bot_operating_17_r8b--0.wav', '/home/user/ai/sample-generator/content/dd-servos-smalls/servo_activate_bot_small_19_r8b--3.wav', '/home/user/ai/sample-generator/content/dd-servos-smalls/servo_transform_sweetener_02_r8b--7.wav', '/home/user/ai/sample-generator/content/dd-servos-smalls/servo_motors_medium_hitech_41_r8b--4.wav', '/home/user/ai/sample-generator/content/dd-servos-smalls/servo_dual_operating_01_r8b--4.wav', '/home/user/ai/sample-generator/content/dd-servos-smalls/servo_transform_sweetener_02_r8b_r8b--4.wav', '/home/user/ai/sample-generator/content/dd-servos-smalls/servo_dual_operating_03_r8b--0.wav', '/home/user/ai/sample-generator/content/dd-servos-smalls/servo_motor_insectoid_14_r8b--6.wav', '/home/user/ai/sample-generator/content/dd-servos-smalls/servo_activate_bot_small_12_r8b--1.wav', '/home/user/ai/sample-generator/content/dd-servos-smalls/servo_activate_bot_small_b_08_r8b--4.wav', '/home/user/ai/sample-generator/content/dd-servos-smalls/servo_tiny_bot_transform_16_r8b_r8b--3.wav', '/home/user/ai/sample-generator/content/dd-servos-smalls/servo_tiny_bot_transform_24_r8b_r8b--1.wav', '/home/user/ai/sample-generator/content/dd-servos-smalls/servo_tiny_bot_operating_17_r8b--7.wav', '/home/user/ai/sample-generator/content/dd-servos-smalls/servo_activate_bot_small_17_r8b--1.wav', '/home/user/ai/sample-generator/content/dd-servos-smalls/servo_dual_operating_01_r8b--6.wav', '/home/user/ai/sample-generator/content/dd-servos-smalls/servo_tiny_bot_transform_15_r8b_r8b--1.wav', '/home/user/ai/sample-generator/content/dd-servos-smalls/servo_activate_bot_small_b_08_r8b--2.wav', '/home/user/ai/sample-generator/content/dd-servos-smalls/servo_dual_operating_03_r8b--1.wav', '/home/user/ai/sample-generator/content/dd-servos-smalls/servo_tiny_bot_transform_16_r8b_r8b--1.wav', '/home/user/ai/sample-generator/content/dd-servos-smalls/servo_tiny_bot_transform_33_r8b--3.wav', '/home/user/ai/sample-generator/content/dd-servos-smalls/servo_tiny_bot_operating_17_r8b--8.wav', '/home/user/ai/sample-generator/content/dd-servos-smalls/servo_transform_sweetener_02_r8b_r8b--20.wav', '/home/user/ai/sample-generator/content/dd-servos-smalls/servo_dual_operating_03_r8b--7.wav', '/home/user/ai/sample-generator/content/dd-servos-smalls/servo_dual_operating_03_r8b--11.wav', '/home/user/ai/sample-generator/content/dd-servos-smalls/servo_dual_operating_02_r8b--29.wav', '/home/user/ai/sample-generator/content/dd-servos-smalls/servo_dual_operating_02_r8b--21.wav', '/home/user/ai/sample-generator/content/dd-servos-smalls/servo_tiny_bot_transform_34_r8b_r8b--7.wav', '/home/user/ai/sample-generator/content/dd-servos-smalls/servo_tiny_bot_transform_12_r8b_r8b--0.wav', '/home/user/ai/sample-generator/content/dd-servos-smalls/servo_tiny_bot_operating_17_r8b--5.wav', '/home/user/ai/sample-generator/content/dd-servos-smalls/servo_dual_operating_02_r8b--8.wav', '/home/user/ai/sample-generator/content/dd-servos-smalls/servo_activate_bot_small_21_r8b--2.wav', '/home/user/ai/sample-generator/content/dd-servos-smalls/servo_dual_operating_02_r8b--30.wav', '/home/user/ai/sample-generator/content/dd-servos-smalls/servo_tiny_bot_transform_32_r8b--0.wav', '/home/user/ai/sample-generator/content/dd-servos-smalls/servo_dual_operating_02_r8b--18.wav', '/home/user/ai/sample-generator/content/dd-servos-smalls/servo_dual_operating_01_r8b--12.wav', '/home/user/ai/sample-generator/content/dd-servos-smalls/servo_tiny_bot_transform_34_r8b_r8b--12.wav', '/home/user/ai/sample-generator/content/dd-servos-smalls/servo_tiny_bot_transform_26_r8b--1.wav', '/home/user/ai/sample-generator/content/dd-servos-smalls/servo_transform_sweetener_01_r8b--6.wav', '/home/user/ai/sample-generator/content/dd-servos-smalls/servo_tiny_bot_transform_28_r8b--0.wav', '/home/user/ai/sample-generator/content/dd-servos-smalls/servo_tiny_bot_transform_12_r8b_r8b--1.wav', '/home/user/ai/sample-generator/content/dd-servos-smalls/servo_dual_operating_02_r8b--7.wav', '/home/user/ai/sample-generator/content/dd-servos-smalls/servo_tiny_bot_transform_33_r8b--4.wav', '/home/user/ai/sample-generator/content/dd-servos-smalls/servo_transform_sweetener_02_r8b_r8b--28.wav', '/home/user/ai/sample-generator/content/dd-servos-smalls/servo_activate_bot_small_12_r8b--0.wav', '/home/user/ai/sample-generator/content/dd-servos-smalls/servo_tiny_bot_transform_21_r8b_r8b--3.wav', '/home/user/ai/sample-generator/content/dd-servos-smalls/servo_dual_operating_03_r8b--13.wav', '/home/user/ai/sample-generator/content/dd-servos-smalls/servo_tiny_bot_transform_34_r8b_r8b--2.wav', '/home/user/ai/sample-generator/content/dd-servos-smalls/servo_transform_sweetener_02_r8b_r8b--16.wav', '/home/user/ai/sample-generator/content/dd-servos-smalls/servo_transform_sweetener_02_r8b_r8b--2.wav', '/home/user/ai/sample-generator/content/dd-servos-smalls/servo_dual_operating_01_r8b--3.wav', '/home/user/ai/sample-generator/content/dd-servos-smalls/servo_activate_bot_small_19_r8b--1.wav', '/home/user/ai/sample-generator/content/dd-servos-smalls/servo_tiny_bot_operating_17_r8b--1.wav', '/home/user/ai/sample-generator/content/dd-servos-smalls/servo_transform_sweetener_02_r8b_r8b--6.wav', '/home/user/ai/sample-generator/content/dd-servos-smalls/servo_motor_tiny_bot_01_r8b--2.wav', '/home/user/ai/sample-generator/content/dd-servos-smalls/servo_dual_operating_03_r8b--16.wav', '/home/user/ai/sample-generator/content/dd-servos-smalls/servo_transform_sweetener_02_r8b--26.wav', '/home/user/ai/sample-generator/content/dd-servos-smalls/servo_tiny_bot_transform_21_r8b_r8b--2.wav', '/home/user/ai/sample-generator/content/dd-servos-smalls/servo_tiny_bot_transform_29_r8b--0.wav', '/home/user/ai/sample-generator/content/dd-servos-smalls/servo_tiny_bot_transform_13_r8b_r8b--1.wav', '/home/user/ai/sample-generator/content/dd-servos-smalls/servo_dual_operating_01_r8b--15.wav', '/home/user/ai/sample-generator/content/dd-servos-smalls/servo_transform_sweetener_02_r8b_r8b--13.wav', '/home/user/ai/sample-generator/content/dd-servos-smalls/servo_dual_operating_02_r8b--23.wav', '/home/user/ai/sample-generator/content/dd-servos-smalls/servo_transform_sweetener_02_r8b_r8b--24.wav', '/home/user/ai/sample-generator/content/dd-servos-smalls/servo_transform_sweetener_02_r8b--12.wav', '/home/user/ai/sample-generator/content/dd-servos-smalls/servo_lens_jammed_01_r8b--5.wav', '/home/user/ai/sample-generator/content/dd-servos-smalls/servo_tiny_bot_transform_34_r8b_r8b--1.wav', '/home/user/ai/sample-generator/content/dd-servos-smalls/servo_tiny_bot_transform_34_r8b_r8b--11.wav', '/home/user/ai/sample-generator/content/dd-servos-smalls/servo_transform_sweetener_02_r8b--22.wav', '/home/user/ai/sample-generator/content/dd-servos-smalls/servo_tiny_bot_transform_34_r8b_r8b--0.wav', '/home/user/ai/sample-generator/content/dd-servos-smalls/servo_motor_insectoid_14_r8b--0.wav', '/home/user/ai/sample-generator/content/dd-servos-smalls/servo_dual_operating_03_r8b--3.wav', '/home/user/ai/sample-generator/content/dd-servos-smalls/servo_lens_jammed_01_r8b--4.wav', '/home/user/ai/sample-generator/content/dd-servos-smalls/servo_transform_sweetener_02_r8b--20.wav', '/home/user/ai/sample-generator/content/dd-servos-smalls/servo_transform_sweetener_02_r8b_r8b--12.wav', '/home/user/ai/sample-generator/content/dd-servos-smalls/servo_transform_sweetener_02_r8b_r8b--0.wav', '/home/user/ai/sample-generator/content/dd-servos-smalls/servo_motor_tiny_bot_01_r8b--9.wav', '/home/user/ai/sample-generator/content/dd-servos-smalls/servo_transform_sweetener_02_r8b--3.wav', '/home/user/ai/sample-generator/content/dd-servos-smalls/servo_dual_operating_02_r8b--0.wav', '/home/user/ai/sample-generator/content/dd-servos-smalls/servo_tiny_bot_transform_33_r8b--1.wav', '/home/user/ai/sample-generator/content/dd-servos-smalls/servo_transform_sweetener_02_r8b--23.wav', '/home/user/ai/sample-generator/content/dd-servos-smalls/servo_activate_bot_small_b_01_r8b--1.wav', '/home/user/ai/sample-generator/content/dd-servos-smalls/servo_activate_bot_small_b_02_r8b--0.wav', '/home/user/ai/sample-generator/content/dd-servos-smalls/servo_dual_operating_03_r8b--14.wav', '/home/user/ai/sample-generator/content/dd-servos-smalls/servo_dual_operating_01_r8b--8.wav', '/home/user/ai/sample-generator/content/dd-servos-smalls/servo_tiny_bot_transform_19_r8b_r8b--1.wav', '/home/user/ai/sample-generator/content/dd-servos-smalls/servo_transform_sweetener_02_r8b--6.wav', '/home/user/ai/sample-generator/content/dd-servos-smalls/servo_tiny_bot_transform_31_r8b--2.wav', '/home/user/ai/sample-generator/content/dd-servos-smalls/servo_dual_operating_03_r8b--4.wav', '/home/user/ai/sample-generator/content/dd-servos-smalls/servo_tiny_bot_transform_29_r8b--2.wav', '/home/user/ai/sample-generator/content/dd-servos-smalls/servo_tiny_bot_transform_34_r8b_r8b--8.wav', '/home/user/ai/sample-generator/content/dd-servos-smalls/servo_dual_operating_02_r8b--9.wav', '/home/user/ai/sample-generator/content/dd-servos-smalls/servo_activate_bot_small_16_r8b--2.wav', '/home/user/ai/sample-generator/content/dd-servos-smalls/servo_tiny_bot_transform_18_r8b--1.wav', '/home/user/ai/sample-generator/content/dd-servos-smalls/servo_activate_bot_small_20_r8b--2.wav', '/home/user/ai/sample-generator/content/dd-servos-smalls/servo_tiny_bot_transform_17_r8b--2.wav', '/home/user/ai/sample-generator/content/dd-servos-smalls/servo_dual_operating_02_r8b--14.wav', '/home/user/ai/sample-generator/content/dd-servos-smalls/servo_motor_insectoid_14_r8b--8.wav', '/home/user/ai/sample-generator/content/dd-servos-smalls/servo_transform_sweetener_01_r8b--1.wav', '/home/user/ai/sample-generator/content/dd-servos-smalls/servo_tiny_bot_transform_14_r8b_r8b--0.wav', '/home/user/ai/sample-generator/content/dd-servos-smalls/servo_dual_operating_03_r8b--20.wav', '/home/user/ai/sample-generator/content/dd-servos-smalls/servo_activate_bot_small_b_02_r8b--1.wav', '/home/user/ai/sample-generator/content/dd-servos-smalls/servo_activate_bot_small_b_03_r8b--0.wav', '/home/user/ai/sample-generator/content/dd-servos-smalls/servo_transform_sweetener_02_r8b_r8b--7.wav', '/home/user/ai/sample-generator/content/dd-servos-smalls/servo_tiny_bot_transform_18_r8b--2.wav', '/home/user/ai/sample-generator/content/dd-servos-smalls/servo_tiny_bot_operating_17_r8b--2.wav', '/home/user/ai/sample-generator/content/dd-servos-smalls/servo_transform_sweetener_02_r8b--13.wav', '/home/user/ai/sample-generator/content/dd-servos-smalls/servo_tiny_bot_transform_18_r8b_r8b--1.wav', '/home/user/ai/sample-generator/content/dd-servos-smalls/servo_transform_sweetener_02_r8b--10.wav', '/home/user/ai/sample-generator/content/dd-servos-smalls/servo_dual_operating_03_r8b--10.wav', '/home/user/ai/sample-generator/content/dd-servos-smalls/servo_activate_bot_small_b_08_r8b--3.wav', '/home/user/ai/sample-generator/content/dd-servos-smalls/servo_tiny_bot_transform_14_r8b_r8b--2.wav', '/home/user/ai/sample-generator/content/dd-servos-smalls/servo_tiny_bot_transform_28_r8b--1.wav', '/home/user/ai/sample-generator/content/dd-servos-smalls/servo_tiny_bot_transform_32_r8b--2.wav', '/home/user/ai/sample-generator/content/dd-servos-smalls/servo_tiny_bot_transform_34_r8b_r8b--9.wav', '/home/user/ai/sample-generator/content/dd-servos-smalls/servo_tiny_bot_transform_20_r8b_r8b--2.wav', '/home/user/ai/sample-generator/content/dd-servos-smalls/servo_activate_bot_small_19_r8b--2.wav', '/home/user/ai/sample-generator/content/dd-servos-smalls/servo_tiny_bot_transform_23_r8b_r8b--1.wav', '/home/user/ai/sample-generator/content/dd-servos-smalls/servo_tiny_bot_transform_34_r8b_r8b--15.wav', '/home/user/ai/sample-generator/content/dd-servos-smalls/servo_activate_bot_small_b_03_r8b--2.wav', '/home/user/ai/sample-generator/content/dd-servos-smalls/servo_motor_insectoid_14_r8b--2.wav', '/home/user/ai/sample-generator/content/dd-servos-smalls/servo_dual_operating_02_r8b--20.wav', '/home/user/ai/sample-generator/content/dd-servos-smalls/servo_transform_sweetener_02_r8b--2.wav', '/home/user/ai/sample-generator/content/dd-servos-smalls/servo_transform_sweetener_02_r8b--27.wav', '/home/user/ai/sample-generator/content/dd-servos-smalls/servo_dual_operating_03_r8b--12.wav', '/home/user/ai/sample-generator/content/dd-servos-smalls/servo_transform_sweetener_02_r8b--15.wav', '/home/user/ai/sample-generator/content/dd-servos-smalls/servo_tiny_bot_transform_17_r8b_r8b--1.wav', '/home/user/ai/sample-generator/content/dd-servos-smalls/servo_activate_bot_small_20_r8b--1.wav', '/home/user/ai/sample-generator/content/dd-servos-smalls/servo_transform_sweetener_02_r8b--18.wav', '/home/user/ai/sample-generator/content/dd-servos-smalls/servo_activate_bot_small_16_r8b--1.wav', '/home/user/ai/sample-generator/content/dd-servos-smalls/servo_tiny_bot_transform_33_r8b--2.wav', '/home/user/ai/sample-generator/content/dd-servos-smalls/servo_tiny_bot_transform_17_r8b_r8b--2.wav', '/home/user/ai/sample-generator/content/dd-servos-smalls/servo_dual_operating_02_r8b--19.wav', '/home/user/ai/sample-generator/content/dd-servos-smalls/servo_activate_bot_small_18_r8b--3.wav', '/home/user/ai/sample-generator/content/dd-servos-smalls/servo_activate_bot_small_17_r8b--2.wav', '/home/user/ai/sample-generator/content/dd-servos-smalls/servo_dual_operating_02_r8b--1.wav', '/home/user/ai/sample-generator/content/dd-servos-smalls/servo_transform_sweetener_02_r8b_r8b--31.wav', '/home/user/ai/sample-generator/content/dd-servos-smalls/servo_tiny_bot_transform_29_r8b--1.wav', '/home/user/ai/sample-generator/content/dd-servos-smalls/servo_transform_sweetener_02_r8b--24.wav', '/home/user/ai/sample-generator/content/dd-servos-smalls/servo_tiny_bot_transform_17_r8b_r8b--0.wav', '/home/user/ai/sample-generator/content/dd-servos-smalls/servo_dual_operating_02_r8b--25.wav', '/home/user/ai/sample-generator/content/dd-servos-smalls/servo_transform_sweetener_02_r8b_r8b--11.wav', '/home/user/ai/sample-generator/content/dd-servos-smalls/servo_dual_operating_02_r8b--17.wav', '/home/user/ai/sample-generator/content/dd-servos-smalls/servo_dual_operating_03_r8b--17.wav', '/home/user/ai/sample-generator/content/dd-servos-smalls/servo_dual_operating_02_r8b--13.wav', '/home/user/ai/sample-generator/content/dd-servos-smalls/servo_transform_sweetener_02_r8b--21.wav', '/home/user/ai/sample-generator/content/dd-servos-smalls/servo_dual_operating_02_r8b--3.wav', '/home/user/ai/sample-generator/content/dd-servos-smalls/servo_tiny_bot_transform_19_r8b_r8b--0.wav', '/home/user/ai/sample-generator/content/dd-servos-smalls/servo_lens_jammed_01_r8b--0.wav', '/home/user/ai/sample-generator/content/dd-servos-smalls/servo_transform_sweetener_02_r8b_r8b--10.wav', '/home/user/ai/sample-generator/content/dd-servos-smalls/servo_dual_operating_02_r8b--11.wav', '/home/user/ai/sample-generator/content/dd-servos-smalls/servo_tiny_bot_transform_16_r8b_r8b--2.wav', '/home/user/ai/sample-generator/content/dd-servos-smalls/servo_transform_sweetener_02_r8b_r8b--3.wav', '/home/user/ai/sample-generator/content/dd-servos-smalls/servo_activate_bot_small_20_r8b--4.wav', '/home/user/ai/sample-generator/content/dd-servos-smalls/servo_tiny_bot_transform_24_r8b--0.wav', '/home/user/ai/sample-generator/content/dd-servos-smalls/servo_tiny_bot_transform_32_r8b--1.wav', '/home/user/ai/sample-generator/content/dd-servos-smalls/servo_activate_bot_small_18_r8b--2.wav', '/home/user/ai/sample-generator/content/dd-servos-smalls/servo_dual_operating_01_r8b--9.wav', '/home/user/ai/sample-generator/content/dd-servos-smalls/servo_tiny_bot_transform_16_r8b_r8b--0.wav', '/home/user/ai/sample-generator/content/dd-servos-smalls/servo_transform_sweetener_02_r8b--1.wav', '/home/user/ai/sample-generator/content/dd-servos-smalls/servo_transform_sweetener_02_r8b--17.wav', '/home/user/ai/sample-generator/content/dd-servos-smalls/servo_tiny_bot_transform_31_r8b--1.wav', '/home/user/ai/sample-generator/content/dd-servos-smalls/servo_tiny_bot_transform_34_r8b_r8b--14.wav', '/home/user/ai/sample-generator/content/dd-servos-smalls/servo_activate_bot_small_16_r8b--0.wav', '/home/user/ai/sample-generator/content/dd-servos-smalls/servo_dual_operating_01_r8b--7.wav', '/home/user/ai/sample-generator/content/dd-servos-smalls/servo_lens_jammed_01_r8b--3.wav', '/home/user/ai/sample-generator/content/dd-servos-smalls/servo_dual_operating_01_r8b--5.wav', '/home/user/ai/sample-generator/content/dd-servos-smalls/servo_tiny_bot_operating_17_r8b--6.wav', '/home/user/ai/sample-generator/content/dd-servos-smalls/servo_tiny_bot_transform_34_r8b_r8b--4.wav', '/home/user/ai/sample-generator/content/dd-servos-smalls/servo_activate_bot_small_18_r8b--0.wav', '/home/user/ai/sample-generator/content/dd-servos-smalls/servo_transform_sweetener_02_r8b_r8b--15.wav', '/home/user/ai/sample-generator/content/dd-servos-smalls/servo_transform_sweetener_02_r8b_r8b--22.wav', '/home/user/ai/sample-generator/content/dd-servos-smalls/servo_dual_operating_01_r8b--13.wav', '/home/user/ai/sample-generator/content/dd-servos-smalls/servo_activate_bot_small_20_r8b--0.wav', '/home/user/ai/sample-generator/content/dd-servos-smalls/servo_tiny_bot_transform_33_r8b--0.wav', '/home/user/ai/sample-generator/content/dd-servos-smalls/servo_activate_bot_small_17_r8b--0.wav', '/home/user/ai/sample-generator/content/dd-servos-smalls/servo_tiny_bot_transform_35_r8b--0.wav', '/home/user/ai/sample-generator/content/dd-servos-smalls/servo_tiny_bot_transform_20_r8b_r8b--1.wav', '/home/user/ai/sample-generator/content/dd-servos-smalls/servo_tiny_bot_transform_24_r8b_r8b--0.wav', '/home/user/ai/sample-generator/content/dd-servos-smalls/servo_dual_operating_02_r8b--12.wav', '/home/user/ai/sample-generator/content/dd-servos-smalls/servo_dual_operating_02_r8b--2.wav', '/home/user/ai/sample-generator/content/dd-servos-smalls/servo_dual_operating_03_r8b--8.wav', '/home/user/ai/sample-generator/content/dd-servos-smalls/servo_activate_bot_small_b_08_r8b--0.wav', '/home/user/ai/sample-generator/content/dd-servos-smalls/servo_tiny_bot_transform_23_r8b_r8b--0.wav', '/home/user/ai/sample-generator/content/dd-servos-smalls/servo_transform_sweetener_01_r8b--0.wav', '/home/user/ai/sample-generator/content/dd-servos-smalls/servo_lens_jammed_01_r8b--8.wav', '/home/user/ai/sample-generator/content/dd-servos-smalls/servo_transform_sweetener_01_r8b--4.wav', '/home/user/ai/sample-generator/content/dd-servos-smalls/servo_tiny_bot_transform_14_r8b_r8b--1.wav', '/home/user/ai/sample-generator/content/dd-servos-smalls/servo_transform_sweetener_02_r8b_r8b--9.wav', '/home/user/ai/sample-generator/content/dd-servos-smalls/servo_tiny_bot_transform_24_r8b--1.wav']\n",
            "\u001b[34m\u001b[1mwandb\u001b[0m: Currently logged in as: \u001b[33mfelseg\u001b[0m. Use \u001b[1m`wandb login --relogin`\u001b[0m to force relogin\n",
            "\u001b[34m\u001b[1mwandb\u001b[0m: Tracking run with wandb version 0.14.0\n",
            "\u001b[34m\u001b[1mwandb\u001b[0m: Run data is saved locally in \u001b[35m\u001b[1m./wandb/run-20230317_092849-oj1vmi8e\u001b[0m\n",
            "\u001b[34m\u001b[1mwandb\u001b[0m: Run \u001b[1m`wandb offline`\u001b[0m to turn off syncing.\n",
            "\u001b[34m\u001b[1mwandb\u001b[0m: Syncing run \u001b[33mplayful-cherry-2\u001b[0m\n",
            "\u001b[34m\u001b[1mwandb\u001b[0m: ⭐️ View project at \u001b[34m\u001b[4mhttps://wandb.ai/felseg/dd-servos-smalls\u001b[0m\n",
            "\u001b[34m\u001b[1mwandb\u001b[0m: 🚀 View run at \u001b[34m\u001b[4mhttps://wandb.ai/felseg/dd-servos-smalls/runs/oj1vmi8e\u001b[0m\n",
            "\u001b[34m\u001b[1mwandb\u001b[0m: logging graph, to disable use `wandb.watch(log_graph=False)`\n",
            "/home/user/.local/lib/python3.10/site-packages/lightning_fabric/connector.py:562: UserWarning: 16 is supported for historical reasons but its usage is discouraged. Please set your precision to 16-mixed instead!\n",
            "  rank_zero_warn(\n",
            "Using 16bit Automatic Mixed Precision (AMP)\n",
            "GPU available: True (cuda), used: True\n",
            "TPU available: False, using: 0 TPU cores\n",
            "IPU available: False, using: 0 IPUs\n",
            "HPU available: False, using: 0 HPUs\n",
            "You are using a CUDA device ('NVIDIA GeForce RTX 3080') that has Tensor Cores. To properly utilize them, you should set `torch.set_float32_matmul_precision('medium' | 'high')` which will trade-off precision for performance. For more details, read https://pytorch.org/docs/stable/generated/torch.set_float32_matmul_precision.html#torch.set_float32_matmul_precision\n",
            "Restoring states from the checkpoint path at /home/user/ai/sample-generator/models/jmann-small-190k.ckpt\n",
            "FileNotFoundError: Checkpoint at /home/user/ai/sample-generator/models/jmann-small-190k.ckpt not found. Aborting training.\n",
            "Traceback (most recent call last):\n",
            "  File \"/home/user/ai/sample-generator/train_uncond.py\", line 237, in <module>\n",
            "    main()\n",
            "  File \"/home/user/ai/sample-generator/train_uncond.py\", line 233, in main\n",
            "    diffusion_trainer.fit(diffusion_model, train_dl, ckpt_path=args.ckpt_path)\n",
            "  File \"/home/user/.local/lib/python3.10/site-packages/pytorch_lightning/trainer/trainer.py\", line 520, in fit\n",
            "    call._call_and_handle_interrupt(\n",
            "  File \"/home/user/.local/lib/python3.10/site-packages/pytorch_lightning/trainer/call.py\", line 44, in _call_and_handle_interrupt\n",
            "    return trainer_fn(*args, **kwargs)\n",
            "  File \"/home/user/.local/lib/python3.10/site-packages/pytorch_lightning/trainer/trainer.py\", line 559, in _fit_impl\n",
            "    self._run(model, ckpt_path=ckpt_path)\n",
            "  File \"/home/user/.local/lib/python3.10/site-packages/pytorch_lightning/trainer/trainer.py\", line 901, in _run\n",
            "    self._checkpoint_connector._restore_modules_and_callbacks(ckpt_path)\n",
            "  File \"/home/user/.local/lib/python3.10/site-packages/pytorch_lightning/trainer/connectors/checkpoint_connector.py\", line 395, in _restore_modules_and_callbacks\n",
            "    self.resume_start(checkpoint_path)\n",
            "  File \"/home/user/.local/lib/python3.10/site-packages/pytorch_lightning/trainer/connectors/checkpoint_connector.py\", line 82, in resume_start\n",
            "    loaded_checkpoint = self.trainer.strategy.load_checkpoint(checkpoint_path)\n",
            "  File \"/home/user/.local/lib/python3.10/site-packages/pytorch_lightning/strategies/strategy.py\", line 347, in load_checkpoint\n",
            "    return self.checkpoint_io.load_checkpoint(checkpoint_path)\n",
            "  File \"/home/user/.local/lib/python3.10/site-packages/lightning_fabric/plugins/io/torch_io.py\", line 87, in load_checkpoint\n",
            "    raise FileNotFoundError(f\"Checkpoint at {path} not found. Aborting training.\")\n",
            "FileNotFoundError: Checkpoint at /home/user/ai/sample-generator/models/jmann-small-190k.ckpt not found. Aborting training.\n",
            "\u001b[34m\u001b[1mwandb\u001b[0m: Waiting for W&B process to finish... \u001b[31m(failed 1).\u001b[0m Press Control-C to abort syncing.\n",
            "\u001b[34m\u001b[1mwandb\u001b[0m: 🚀 View run \u001b[33mplayful-cherry-2\u001b[0m at: \u001b[34m\u001b[4mhttps://wandb.ai/felseg/dd-servos-smalls/runs/oj1vmi8e\u001b[0m\n",
            "\u001b[34m\u001b[1mwandb\u001b[0m: Synced 5 W&B file(s), 0 media file(s), 0 artifact file(s) and 0 other file(s)\n",
            "\u001b[34m\u001b[1mwandb\u001b[0m: Find logs at: \u001b[35m\u001b[1m./wandb/run-20230317_092849-oj1vmi8e/logs\u001b[0m\n"
          ]
        }
      ],
      "source": [
        "#@markdown Name for the finetune project, used as the W&B project name, as well as the directory for the saved checkpoints\n",
        "NAME=\"dd-servos-finetune\" \n",
        "\n",
        "#@markdown Path to the directory of audio data to use for fine-tuning\n",
        "TRAINING_DIR=\"/content/dd-servos-small/\"\n",
        "#@markdown Path to the checkpoint to fine-tune \n",
        "CKPT_PATH=\"/models/jmann-small-190k.ckpt\" \n",
        "\n",
        "#@markdown Directory path for saving the fine-tuned outputs\n",
        "OUTPUT_DIR=f\"/models/{NAME}/\" \n",
        "\n",
        "#@markdown Number of training steps between demos\n",
        "DEMO_EVERY=250 \n",
        "#@markdown Number of training steps between saving model checkpoints\n",
        "CHECKPOINT_EVERY=500 \n",
        "#@markdown Sample rate to train at\n",
        "SAMPLE_RATE=48000 \n",
        "#@markdown Number of audio samples per training sample\n",
        "SAMPLE_SIZE=65536 \n",
        "#@markdown If true, the audio samples provided will be randomly cropped to SAMPLE_SIZE samples\n",
        "#@markdown\n",
        "#@markdown Turn off if you want to ensure the training data always starts at the beginning of the audio files (good for things like drum one-shots)\n",
        "RANDOM_CROP=True \n",
        "#@markdown Batch size to fine-tune (make it as high as it can go for your GPU)\n",
        "BATCH_SIZE=2 \n",
        "#@markdown Accumulate gradients over n batches, useful for training on one GPU. \n",
        "#@markdown\n",
        "#@markdown Effective batch size is BATCH_SIZE * ACCUM_BATCHES.\n",
        "#@markdown\n",
        "#@markdown Also increases the time between demos and saved checkpoints\n",
        "ACCUM_BATCHES=4\n",
        "\n",
        "random_crop_str = f\"--random-crop True\" if RANDOM_CROP else \"\"\n",
        "\n",
        "# Escape spaces in paths\n",
        "CKPT_PATH = CKPT_PATH.replace(f\" \", f\"\\ \")\n",
        "OUTPUT_DIR = f\"{OUTPUT_DIR}/{NAME}\".replace(f\" \", f\"\\ \")\n",
        "\n",
        "\n",
        "ckpt_path_str = f\"--ckpt-path {CKPT_PATH}\" if not CKPT_PATH ==\"\" else \"\"\n",
        "\n",
        "!python3 /home/user/ai/sample-generator/train_uncond.py --ckpt-path \"/home/user/ai/sample-generator/models/jmann-small-190k.ckpt\" \\\n",
        "                                                          --name \"dd-servos-smalls\" \\\n",
        "                                                          --training-dir \"/home/user/ai/sample-generator/content/dd-servos-smalls\" \\\n",
        "                                                          --sample-size 65536 \\\n",
        "                                                          --accum-batches 2 \\\n",
        "                                                          --sample-rate 48000 \\\n",
        "                                                          --batch-size 1 \\\n",
        "                                                          --demo-every 250 \\\n",
        "                                                          --checkpoint-every 500 \\\n",
        "                                                          --num-workers 1 \\\n",
        "                                                          --save-wandb all \\\n",
        "                                                          --num-gpus 1 \\\n",
        "                                                          --random-crop True \\\n",
        "                                                          --save-path \"/home/user/ai/sample-generator/models/dd-servos-smalls/\""
      ]
    }
  ],
  "metadata": {
    "accelerator": "GPU",
    "colab": {
      "collapsed_sections": [
        "HHcTRGvUmoME"
      ],
      "provenance": []
    },
    "gpuClass": "standard",
    "kernelspec": {
      "display_name": "Python 3.8.8 ('ml')",
      "language": "python",
      "name": "python3"
    },
    "language_info": {
      "codemirror_mode": {
        "name": "ipython",
        "version": 3
      },
      "file_extension": ".py",
      "mimetype": "text/x-python",
      "name": "python",
      "nbconvert_exporter": "python",
      "pygments_lexer": "ipython3",
      "version": "3.10.8"
    },
    "vscode": {
      "interpreter": {
        "hash": "9ce29cb5aeaaebb09d381145ff1103741c9816dbccbfcb1b857cd83265b8bd84"
      }
    }
  },
  "nbformat": 4,
  "nbformat_minor": 0
}
